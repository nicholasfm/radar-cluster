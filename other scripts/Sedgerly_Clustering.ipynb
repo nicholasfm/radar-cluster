{
 "cells": [
  {
   "cell_type": "markdown",
   "metadata": {},
   "source": []
  },
  {
   "cell_type": "code",
   "execution_count": 2,
   "metadata": {},
   "outputs": [
    {
     "data": {
      "application/javascript": [
       "if (!(\"Notification\" in window)) {\n",
       "    alert(\"This browser does not support desktop notifications, so the %%notify magic will not work.\");\n",
       "} else if (Notification.permission !== 'granted' && Notification.permission !== 'denied') {\n",
       "    Notification.requestPermission(function (permission) {\n",
       "        if(!('permission' in Notification)) {\n",
       "            Notification.permission = permission;\n",
       "        }\n",
       "    })\n",
       "}\n"
      ],
      "text/plain": [
       "<IPython.core.display.Javascript object>"
      ]
     },
     "metadata": {},
     "output_type": "display_data"
    }
   ],
   "source": [
    "%matplotlib inline\n",
    "import matplotlib.pyplot as plt\n",
    "import seaborn as sns; sns.set()\n",
    "import numpy as np\n",
    "from sklearn.mixture import GaussianMixture\n",
    "import pickle\n",
    "\n",
    "import jupyternotify\n",
    "ip = get_ipython()\n",
    "ip.register_magics(jupyternotify.JupyterNotifyMagics)"
   ]
  },
  {
   "cell_type": "code",
   "execution_count": 3,
   "metadata": {},
   "outputs": [
    {
     "data": {
      "application/javascript": [
       "$(document).ready(\n",
       "    function() {\n",
       "        function appendUniqueDiv(){\n",
       "            // append a div with our uuid so we can check that it's already\n",
       "            // been sent and avoid duplicates on page reload\n",
       "            var notifiedDiv = document.createElement(\"div\")\n",
       "            notifiedDiv.id = \"c28ed417-d9c8-4933-be61-64bd63522d5e\"\n",
       "            element.append(notifiedDiv)\n",
       "        }\n",
       "\n",
       "        // only send notifications if the pageload is complete; this will\n",
       "        // help stop extra notifications when a saved notebook is loaded,\n",
       "        // which during testing gives us state \"interactive\", not \"complete\"\n",
       "        if (document.readyState === 'complete') {\n",
       "            // check for the div that signifies that the notification\n",
       "            // was already sent\n",
       "            if (document.getElementById(\"c28ed417-d9c8-4933-be61-64bd63522d5e\") === null) {\n",
       "                var notificationPayload = {\"body\": \"Cell execution has finished!\", \"requireInteraction\": false, \"icon\": \"/static/base/images/favicon.ico\"};\n",
       "                if (Notification.permission !== 'denied') {\n",
       "                    if (Notification.permission !== 'granted') { \n",
       "                        Notification.requestPermission(function (permission) {\n",
       "                            if(!('permission' in Notification)) {\n",
       "                                Notification.permission = permission\n",
       "                            }\n",
       "                        })\n",
       "                    }\n",
       "                    if (Notification.permission === 'granted') {\n",
       "                    var notification = new Notification(\"Jupyter Notebook\", notificationPayload)\n",
       "                    appendUniqueDiv()\n",
       "                    notification.onclick = function () {\n",
       "                        window.focus();\n",
       "                        this.close();\n",
       "                        };\n",
       "                    } \n",
       "                }     \n",
       "            }\n",
       "        }\n",
       "    }\n",
       ")\n"
      ],
      "text/plain": [
       "<IPython.core.display.Javascript object>"
      ]
     },
     "metadata": {},
     "output_type": "display_data"
    }
   ],
   "source": [
    "data_5th = np.memmap('./radar_data_5th.dat', dtype='float32', mode='r',shape=(6242487,5))\n",
    "data_6th = np.memmap('./radar_data_6th.dat', dtype='float32', mode='r',shape=(22608746,5))\n",
    "data_combined = np.memmap('./radar_data_combined.dat', dtype='float32', mode='r',shape=(28851233,5))"
   ]
  },
  {
   "cell_type": "markdown",
   "metadata": {},
   "source": [
    "Set number of components (I.E `k`)"
   ]
  },
  {
   "cell_type": "code",
   "execution_count": 33,
   "metadata": {
    "collapsed": true
   },
   "outputs": [],
   "source": [
    "n_components = np.arange(4, 18)"
   ]
  },
  {
   "cell_type": "markdown",
   "metadata": {},
   "source": [
    "Train models"
   ]
  },
  {
   "cell_type": "code",
   "execution_count": null,
   "metadata": {
    "collapsed": true
   },
   "outputs": [],
   "source": [
    "%%time\n",
    "models = [GaussianMixture(n, covariance_type='full', random_state=0).fit(data_combined)\n",
    "          for n in n_components]"
   ]
  },
  {
   "cell_type": "markdown",
   "metadata": {},
   "source": [
    "Save models"
   ]
  },
  {
   "cell_type": "code",
   "execution_count": 30,
   "metadata": {},
   "outputs": [],
   "source": [
    "filename = 'Sedgerly_GMM.sav'\n",
    "pickle.dump(models, open(filename, 'wb'))"
   ]
  },
  {
   "cell_type": "markdown",
   "metadata": {},
   "source": [
    "View models"
   ]
  },
  {
   "cell_type": "code",
   "execution_count": 29,
   "metadata": {},
   "outputs": [
    {
     "data": {
      "text/plain": [
       "[GaussianMixture(covariance_type='full', init_params='kmeans', max_iter=100,\n",
       "         means_init=None, n_components=4, n_init=1, precisions_init=None,\n",
       "         random_state=0, reg_covar=1e-06, tol=0.001, verbose=0,\n",
       "         verbose_interval=10, warm_start=False, weights_init=None),\n",
       " GaussianMixture(covariance_type='full', init_params='kmeans', max_iter=100,\n",
       "         means_init=None, n_components=5, n_init=1, precisions_init=None,\n",
       "         random_state=0, reg_covar=1e-06, tol=0.001, verbose=0,\n",
       "         verbose_interval=10, warm_start=False, weights_init=None),\n",
       " GaussianMixture(covariance_type='full', init_params='kmeans', max_iter=100,\n",
       "         means_init=None, n_components=6, n_init=1, precisions_init=None,\n",
       "         random_state=0, reg_covar=1e-06, tol=0.001, verbose=0,\n",
       "         verbose_interval=10, warm_start=False, weights_init=None),\n",
       " GaussianMixture(covariance_type='full', init_params='kmeans', max_iter=100,\n",
       "         means_init=None, n_components=7, n_init=1, precisions_init=None,\n",
       "         random_state=0, reg_covar=1e-06, tol=0.001, verbose=0,\n",
       "         verbose_interval=10, warm_start=False, weights_init=None),\n",
       " GaussianMixture(covariance_type='full', init_params='kmeans', max_iter=100,\n",
       "         means_init=None, n_components=8, n_init=1, precisions_init=None,\n",
       "         random_state=0, reg_covar=1e-06, tol=0.001, verbose=0,\n",
       "         verbose_interval=10, warm_start=False, weights_init=None),\n",
       " GaussianMixture(covariance_type='full', init_params='kmeans', max_iter=100,\n",
       "         means_init=None, n_components=9, n_init=1, precisions_init=None,\n",
       "         random_state=0, reg_covar=1e-06, tol=0.001, verbose=0,\n",
       "         verbose_interval=10, warm_start=False, weights_init=None),\n",
       " GaussianMixture(covariance_type='full', init_params='kmeans', max_iter=100,\n",
       "         means_init=None, n_components=10, n_init=1, precisions_init=None,\n",
       "         random_state=0, reg_covar=1e-06, tol=0.001, verbose=0,\n",
       "         verbose_interval=10, warm_start=False, weights_init=None),\n",
       " GaussianMixture(covariance_type='full', init_params='kmeans', max_iter=100,\n",
       "         means_init=None, n_components=11, n_init=1, precisions_init=None,\n",
       "         random_state=0, reg_covar=1e-06, tol=0.001, verbose=0,\n",
       "         verbose_interval=10, warm_start=False, weights_init=None),\n",
       " GaussianMixture(covariance_type='full', init_params='kmeans', max_iter=100,\n",
       "         means_init=None, n_components=12, n_init=1, precisions_init=None,\n",
       "         random_state=0, reg_covar=1e-06, tol=0.001, verbose=0,\n",
       "         verbose_interval=10, warm_start=False, weights_init=None),\n",
       " GaussianMixture(covariance_type='full', init_params='kmeans', max_iter=100,\n",
       "         means_init=None, n_components=13, n_init=1, precisions_init=None,\n",
       "         random_state=0, reg_covar=1e-06, tol=0.001, verbose=0,\n",
       "         verbose_interval=10, warm_start=False, weights_init=None),\n",
       " GaussianMixture(covariance_type='full', init_params='kmeans', max_iter=100,\n",
       "         means_init=None, n_components=14, n_init=1, precisions_init=None,\n",
       "         random_state=0, reg_covar=1e-06, tol=0.001, verbose=0,\n",
       "         verbose_interval=10, warm_start=False, weights_init=None),\n",
       " GaussianMixture(covariance_type='full', init_params='kmeans', max_iter=100,\n",
       "         means_init=None, n_components=15, n_init=1, precisions_init=None,\n",
       "         random_state=0, reg_covar=1e-06, tol=0.001, verbose=0,\n",
       "         verbose_interval=10, warm_start=False, weights_init=None),\n",
       " GaussianMixture(covariance_type='full', init_params='kmeans', max_iter=100,\n",
       "         means_init=None, n_components=16, n_init=1, precisions_init=None,\n",
       "         random_state=0, reg_covar=1e-06, tol=0.001, verbose=0,\n",
       "         verbose_interval=10, warm_start=False, weights_init=None),\n",
       " GaussianMixture(covariance_type='full', init_params='kmeans', max_iter=100,\n",
       "         means_init=None, n_components=17, n_init=1, precisions_init=None,\n",
       "         random_state=0, reg_covar=1e-06, tol=0.001, verbose=0,\n",
       "         verbose_interval=10, warm_start=False, weights_init=None)]"
      ]
     },
     "execution_count": 29,
     "metadata": {},
     "output_type": "execute_result"
    }
   ],
   "source": [
    "models"
   ]
  },
  {
   "cell_type": "markdown",
   "metadata": {},
   "source": [
    "Plot AIC and BIC"
   ]
  },
  {
   "cell_type": "code",
   "execution_count": 34,
   "metadata": {
    "scrolled": true
   },
   "outputs": [
    {
     "data": {
      "image/png": "[encoded data removed]",
      "text/plain": [
       "<matplotlib.figure.Figure at 0x111b0ffd0>"
      ]
     },
     "metadata": {},
     "output_type": "display_data"
    }
   ],
   "source": [
    "plt.plot(n_components, [m.bic(data_combined) for m in models], label='BIC')\n",
    "plt.plot(n_components, [m.aic(data_combined) for m in models], label='AIC')\n",
    "plt.legend(loc='best')\n",
    "plt.xlabel('n_components');"
   ]
  }
 ],
 "metadata": {
  "kernelspec": {
   "display_name": "Python 2",
   "language": "python",
   "name": "python2"
  },
  "language_info": {
   "codemirror_mode": {
    "name": "ipython",
    "version": 2
   },
   "file_extension": ".py",
   "mimetype": "text/x-python",
   "name": "python",
   "nbconvert_exporter": "python",
   "pygments_lexer": "ipython2",
   "version": "2.7.13"
  }
 },
 "nbformat": 4,
 "nbformat_minor": 2
}
