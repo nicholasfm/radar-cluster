{
 "cells": [
  {
   "cell_type": "code",
   "execution_count": 1,
   "metadata": {
    "collapsed": true
   },
   "outputs": [],
   "source": [
    "%matplotlib inline\n",
    "import matplotlib.pyplot as plt\n",
    "import seaborn as sns; sns.set()\n",
    "import numpy as np\n",
    "from sklearn.mixture import GaussianMixture\n",
    "import pickle"
   ]
  },
  {
   "cell_type": "markdown",
   "metadata": {},
   "source": [
    "Load datasets"
   ]
  },
  {
   "cell_type": "code",
   "execution_count": 2,
   "metadata": {
    "collapsed": true
   },
   "outputs": [],
   "source": [
    "#Complete events\n",
    "sedgerly_combined = np.memmap('./training_data/sedgerly_combined.dat', dtype='float32', mode='r',shape=(28851233, 5))\n",
    "dereel = np.memmap('./training_data/Dereel.dat', dtype='float32', mode='r',shape=(438770, 5))\n",
    "apsey = np.memmap('./training_data/ApseyWest.dat', dtype='float32', mode='r',shape=(384159, 5))\n",
    "mtbolton = np.memmap('./training_data/MtBolton_all.dat', dtype='float32', mode='r',shape=(10406544, 5))\n",
    "\n",
    "#Subset events\n",
    "mtbolton_185 = np.memmap('./training_data/MtBolton_185.dat', dtype='float32', mode='r',shape=(1082118, 5))\n",
    "sedgerly_5th = np.memmap('./training_data/sedgerly_5th.dat', dtype='float32', mode='r',shape=(6242487,5))\n",
    "sedgerly_6th = np.memmap('./training_data/sedgerly_6th.dat', dtype='float32', mode='r',shape=(22608746,5))"
   ]
  },
  {
   "cell_type": "code",
   "execution_count": 5,
   "metadata": {},
   "outputs": [
    {
     "name": "stdout",
     "output_type": "stream",
     "text": [
      "Size = (29235392, 5)\n",
      "First row: [ 7.96000004  2.21000004  0.24710837  2.95000005  0.        ]\n",
      "Last row: [ 8.09000015  1.00999999  0.10040589  2.82999992  0.        ]\n"
     ]
    }
   ],
   "source": [
    "sedgerly_apsey = np.memmap('./training_data/Sedgerly_Apsey.dat', dtype='float64', mode='w+',shape=(28851233+384159,5))\n",
    "sedgerly_apsey[:28851233,:] = sedgerly_combined\n",
    "sedgerly_apsey[28851233:,:] = apsey\n",
    "print('Size = ' + str(np.shape(sedgerly_apsey)))\n",
    "print('First row: ' + str(sedgerly_apsey[0,:]))\n",
    "print('Last row: ' + str(sedgerly_apsey[-1,:]))"
   ]
  },
  {
   "cell_type": "code",
   "execution_count": 6,
   "metadata": {},
   "outputs": [
    {
     "name": "stdout",
     "output_type": "stream",
     "text": [
      "Size = (10845314, 5)\n",
      "First row: [ 6.9000001   4.19000006  0.51692253  1.00999999  0.        ]\n",
      "Last row: [ 7.23000002  2.76999998  0.10858486  1.01999998  0.        ]\n"
     ]
    }
   ],
   "source": [
    "bolton_dereel = np.memmap('./training_data/bolton_dereel.dat', dtype='float64', mode='w+',shape=(10406544+438770,5))\n",
    "bolton_dereel[:10406544,:] = mtbolton\n",
    "bolton_dereel[10406544:,:] = dereel\n",
    "print('Size = ' + str(np.shape(bolton_dereel)))\n",
    "print('First row: ' + str(bolton_dereel[0,:]))\n",
    "print('Last row: ' + str(bolton_dereel[-1,:]))"
   ]
  },
  {
   "cell_type": "code",
   "execution_count": 8,
   "metadata": {},
   "outputs": [
    {
     "name": "stdout",
     "output_type": "stream",
     "text": [
      "Size = (40080706, 5)\n",
      "First row: [ 7.96000004  2.21000004  0.24710837  2.95000005  0.        ]\n",
      "Last row: [ 7.23000002  2.76999998  0.10858486  1.01999998  0.        ]\n"
     ]
    }
   ],
   "source": [
    "all_data = np.memmap('all_data.dat', dtype='float64', mode='w+',shape=(29235392+10845314,5))\n",
    "all_data[:29235392,:] = sedgerly_apsey\n",
    "all_data[29235392:,:] = bolton_dereel\n",
    "print('Size = ' + str(np.shape(all_data)))\n",
    "print('First row: ' + str(all_data[0,:]))\n",
    "print('Last row: ' + str(all_data[-1,:]))"
   ]
  },
  {
   "cell_type": "code",
   "execution_count": 9,
   "metadata": {},
   "outputs": [
    {
     "name": "stdout",
     "output_type": "stream",
     "text": [
      "Size = (1905047, 5)\n",
      "First row: [ 6.98000002  0.52999997  0.15961181  2.99000001  0.        ]\n",
      "Last row: [ 8.09000015  1.00999999  0.10040589  2.82999992  0.        ]\n"
     ]
    }
   ],
   "source": [
    "all_data_fire_heavy = np.memmap('all_data_fire_heavy.dat', dtype='float64', mode='w+',shape=(1082118+438770+384159,5))\n",
    "all_data_fire_heavy[:1082118,:] = mtbolton_185\n",
    "all_data_fire_heavy[1082118:1082118+438770,:] = dereel\n",
    "all_data_fire_heavy[1082118+438770:,:] = apsey\n",
    "print('Size = ' + str(np.shape(all_data_fire_heavy)))\n",
    "print('First row: ' + str(all_data_fire_heavy[0,:]))\n",
    "print('Last row: ' + str(all_data_fire_heavy[-1,:]))"
   ]
  },
  {
   "cell_type": "code",
   "execution_count": null,
   "metadata": {
    "collapsed": true
   },
   "outputs": [],
   "source": [
    "data_sizes = [('ApseyWest', 384159),\n",
    "('Dereel', 438770),\n",
    "('MtBolton_185', 1082118),\n",
    "('MtBolton_all', 10406544),\n",
    "('Sedgerly_Apsey', 29235392),\n",
    "('all_data', 40080706),\n",
    "('all_data_fire_heavy', 1905047),\n",
    "('bolton_dereel', 10845314),\n",
    "('sedgerly_5th', 6242487),\n",
    "('sedgerly_6th', 22608746),\n",
    "('sedgerly_combined', 28851233)]\n",
    "\n",
    "pickle.dump(data_sizes, open('memmap_data_sizes.dim', 'wb'))"
   ]
  }
 ],
 "metadata": {
  "kernelspec": {
   "display_name": "Python 2",
   "language": "python",
   "name": "python2"
  },
  "language_info": {
   "codemirror_mode": {
    "name": "ipython",
    "version": 2
   },
   "file_extension": ".py",
   "mimetype": "text/x-python",
   "name": "python",
   "nbconvert_exporter": "python",
   "pygments_lexer": "ipython2",
   "version": "2.7.13"
  }
 },
 "nbformat": 4,
 "nbformat_minor": 2
}
