{
 "cells": [
  {
   "cell_type": "code",
   "execution_count": 1,
   "metadata": {},
   "outputs": [
    {
     "name": "stdout",
     "output_type": "stream",
     "text": [
      "\n",
      "## You are using the Python ARM Radar Toolkit (Py-ART), an open source\n",
      "## library for working with weather radar data. Py-ART is partly\n",
      "## supported by the U.S. Department of Energy as part of the Atmospheric\n",
      "## Radiation Measurement (ARM) Climate Research Facility, an Office of\n",
      "## Science user facility.\n",
      "##\n",
      "## If you use this software to prepare a publication, please cite:\n",
      "##\n",
      "##     JJ Helmus and SM Collis, JORS 2016, doi: 10.5334/jors.119\n",
      "\n"
     ]
    }
   ],
   "source": [
    "import numpy as np\n",
    "import pyart\n",
    "import os\n",
    "from sklearn.mixture import GaussianMixture\n",
    "import pickle\n",
    "from netCDF4 import num2date, date2num\n",
    "import math\n",
    "from multiprocessing import Pool\n",
    "import traceback"
   ]
  },
  {
   "cell_type": "code",
   "execution_count": 10,
   "metadata": {
    "collapsed": true
   },
   "outputs": [],
   "source": [
    "### Set key parameters\n",
    "dirr = './raw_data/Mt Bolton/radar_hdf'\n",
    "#Set True to test (on single volume)\n",
    "test = False\n",
    "\n",
    "model_fn = './models/Mt_Bolton_altitude_4_12.gmm'\n",
    "\n",
    "firename = 'MtBolton'\n",
    "name_of_plot_run = 'GMM_MtBolton_height'\n",
    "\n",
    "gfilt = True\n",
    "\n",
    "tilt = 0\n",
    "\n",
    "#Exclude values above this SNR value\n",
    "snr_cutoff = 2\n",
    "#Exclude values inside these values\n",
    "VRADH_inside = None #[-0.5,0.5]\n",
    "#Exclude values outside these values\n",
    "VRADH_outside = None #[-10,10]\n",
    "#Apply despeckle filter on VRADH with this minimum no of pixels\n",
    "depseck_size = None #10\n",
    "\n",
    "axislabs=('Distance from UQ-XPOL (km)', 'Height (km)')\n",
    "\n",
    "RHIxlims, RHIylims = [5,28],[0, 7]\n",
    "downadjust = 0.3\n",
    "\n",
    "minref = 0\n",
    "maxref = 35\n",
    "\n",
    "tz =11\n",
    "\n",
    "fields = ['DBZH','ZDR','RHOHV','WRADH','KDP','ALT']"
   ]
  },
  {
   "cell_type": "code",
   "execution_count": null,
   "metadata": {
    "collapsed": true
   },
   "outputs": [],
   "source": []
  },
  {
   "cell_type": "code",
   "execution_count": 14,
   "metadata": {},
   "outputs": [],
   "source": [
    "### Define all functions\n",
    "\n",
    "def load_plot_scan(x):\n",
    "    vol_fn = fls[x]\n",
    "    try:\n",
    "        myradar = pyart.aux_io.read_odim_h5('/'.join([dirr,vol_fn]), file_field_names=True)\n",
    "    except Exception as e:\n",
    "        msg = 'Could not open file: ' + vol_fn\n",
    "        return msg\n",
    "    for k in range(len(models)):\n",
    "        model_name = 'GMM_n' + str(models[k].n_components)\n",
    "        outloc = '/'.join(['.','plots',name_of_plot_run,model_name])\n",
    "        myradar.add_field(model_name,predict_labels(myradar,models[k],filt=gfilt))\n",
    "        plot_k_and_ref(myradar,tilt,outloc,model_name,models[k].n_components)\n",
    "\n",
    "    msg = 'Finished '+ vol_fn\n",
    "    return msg\n",
    "\n",
    "\n",
    "def give_gatefilter(myradar):\n",
    "\n",
    "    try:\n",
    "        myradar.check_field_exists('SNR')\n",
    "    except:\n",
    "        myradar.add_field('SNR',\n",
    "                          pyart.retrieve.calculate_snr_from_reflectivity(myradar,\n",
    "                                                                         refl_field='DBZH',\n",
    "                                                                         snr_field=None,\n",
    "                                                                         toa=25000.0))\n",
    "\n",
    "    # Set gatefilters\n",
    "    gatefilter = pyart.correct.GateFilter(myradar)\n",
    "    if VRADH_inside is not None:\n",
    "        gatefilter.exclude_inside('VRADH',VRADH_inside[0],VRADH_inside[1])\n",
    "    if VRADH_outside is not None:\n",
    "        gatefilter.exclude_outside('VRADH',VRADH_outside[0],VRADH_outside[1])\n",
    "    if snr_cutoff is not None:\n",
    "        gatefilter.exclude_below('SNR',snr_cutoff)\n",
    "    if depseck_size is not None:\n",
    "        gatefilter = pyart.correct.despeckle.despeckle_field(myradar,\n",
    "                                                     'VRADH',\n",
    "                                                     gatefilter=gatefilter,\n",
    "                                                     size = depseck_size)\n",
    "    return gatefilter\n",
    "\n",
    "def predict_labels(myradar,model,filt=True):\n",
    "\n",
    "    from pyart.config import get_metadata\n",
    "\n",
    "    #models[4]\n",
    "    #m =4\n",
    "\n",
    "    #fields = ['DBZH','ZDR','RHOHV','WRADH','KDP','ALT']\n",
    "\n",
    "    gatefilter = None\n",
    "    pred_data = np.zeros((myradar.fields['DBZH']['data'][:].flatten().size,6))\n",
    "    orig_shape = np.shape(myradar.fields['DBZH']['data'][:])\n",
    "\n",
    "    for f in range(len(fields)):\n",
    "        if fields[f] == 'ALT':\n",
    "            returns = myradar.gate_z['data'][:].flatten()\n",
    "            pred_data[:,f] = returns\n",
    "        else:\n",
    "            returns = myradar.fields[fields[f]]['data'][:].flatten()\n",
    "            pred_data[:,f] = returns\n",
    "\n",
    "        ### Do classification here, assume 1D output\n",
    "\n",
    "    labels = np.reshape(model.predict(pred_data),orig_shape)\n",
    "    ['GMM_n' + str(model.n_components)]\n",
    "    #predict_labels(myradar,model[])\n",
    "\n",
    "    GMM_field = get_metadata(myradar)\n",
    "    GMM_field['data'] = labels\n",
    "    GMM_field['units'] = 'NA'\n",
    "    GMM_field['standard_name'] = 'GMM_n' + str(model.n_components)\n",
    "    GMM_field['long_name'] = 'Labels as predict by Gaussian Mixture Model where k = ' + str(model.n_components)\n",
    "    return GMM_field\n",
    "\n",
    "def discrete_cmap(N, base_cmap=None):\n",
    "    import matplotlib.pyplot as plt\n",
    "    \"\"\"Create an N-bin discrete colormap from the specified input map\"\"\"\n",
    "\n",
    "    #Source: https://gist.github.com/jakevdp/91077b0cae40f8f8244a \n",
    "    \n",
    "    # Note that if base_cmap is a string or None, you can simply do\n",
    "    #    return plt.cm.get_cmap(base_cmap, N)\n",
    "    # The following works for string, None, or a colormap instance:\n",
    "\n",
    "    base = plt.cm.get_cmap(base_cmap)\n",
    "    color_list = base(np.linspace(0, 1, N))\n",
    "    cmap_name = base.name + str(N)\n",
    "    return base.from_list(cmap_name, color_list, N)\n",
    "\n",
    "def plot_k_and_ref(myradar,tilt,outloc,model_name,N_cmap):\n",
    "    import matplotlib.pyplot as plt\n",
    "    \n",
    "#    if myradar.scan_type is 'rhi':\n",
    "#        if np.round(myradar.azimuth['data'][0]) == 185.0:\n",
    "#            if myradar.elevation['data'][-1] < myradar.elevation['data'][0]:\n",
    "#                myradar.elevation['data'] = (myradar.elevation['data'] + \n",
    "#                                             np.full_like(myradar.elevation['data'],downadjust))\n",
    "\n",
    "\n",
    "        \n",
    "        \n",
    "    if myradar.scan_type is 'rhi':\n",
    "        \n",
    "        display = pyart.graph.RadarDisplay(myradar)\n",
    "\n",
    "        fig = plt.figure(figsize = [10,8])\n",
    "        dts = num2date(myradar.time['data'][0] + tz* 60.*60., myradar.time['units'])\n",
    "\n",
    "        if gfilt:\n",
    "            gatefilter = give_gatefilter(myradar)\n",
    "        else:\n",
    "            gatefilter = None\n",
    "        \n",
    "        plt.subplot(2,1,1)\n",
    "        display = pyart.graph.RadarMapDisplay(myradar)\n",
    "        \n",
    "        display.plot('DBZH', 0,\n",
    "                     vmin=minref, vmax=maxref,\n",
    "                     title_flag=False,\n",
    "                     cmap = pyart.graph.cm.RRate11,\n",
    "                     gatefilter = gatefilter,\n",
    "                     colorbar_flag = True,\n",
    "                     axislabels = axislabs,\n",
    "                    )\n",
    "            \n",
    "        display.set_limits(RHIxlims,RHIylims)\n",
    "        \n",
    "            \n",
    "        plt.subplot(2,1,2)\n",
    "        display = pyart.graph.RadarMapDisplay(myradar)\n",
    "        \n",
    "        display.plot(model_name,0,\n",
    "                     title_flag=False,\n",
    "                     cmap = discrete_cmap(N_cmap,'pyart_NWSRef'),\n",
    "                     gatefilter = gatefilter,\n",
    "                     colorbar_flag = True,\n",
    "                     axislabels = axislabs,\n",
    "                     ticks=range(1,N_cmap+1))\n",
    "        \n",
    "        display.set_limits(RHIxlims,RHIylims)\n",
    "\n",
    "        fn = firename +'_' + dts.strftime('%H%M%S')\n",
    "\n",
    "        plt.savefig(outloc + '/' +\n",
    "                    fn +\n",
    "                    '_tilt_' +\n",
    "                    '.png',\n",
    "                    dpi=150)\n",
    "\n",
    "        plt.close()\n",
    "\n",
    "    return\n"
   ]
  },
  {
   "cell_type": "code",
   "execution_count": 15,
   "metadata": {},
   "outputs": [
    {
     "name": "stdout",
     "output_type": "stream",
     "text": [
      "Begin processing\n"
     ]
    },
    {
     "name": "stderr",
     "output_type": "stream",
     "text": [
      "/Users/nick/anaconda3/envs/radytheon27/lib/python2.7/site-packages/pyart/core/transforms.py:205: RuntimeWarning: invalid value encountered in arccos\n",
      "  full_angle_rad = np.arccos(dot_product)\n",
      "/Users/nick/anaconda3/envs/radytheon27/lib/python2.7/site-packages/pyart/core/transforms.py:185: RuntimeWarning: invalid value encountered in less\n",
      "  edges[edges < 0] += 360     # range from [-180, 180] to [0, 360]\n",
      "/Users/nick/anaconda3/envs/radytheon27/lib/python2.7/site-packages/pyart/graph/radardisplay.py:457: RuntimeWarning: invalid value encountered in less\n",
      "  reverse_xaxis = np.all(R < 1.)\n"
     ]
    }
   ],
   "source": [
    "if __name__ == '__main__':\n",
    "    fls = os.listdir(dirr)\n",
    "    fls.sort()\n",
    "\n",
    "    if test:\n",
    "        fls = [fls[0]]\n",
    "\n",
    "    #Load GMM models\n",
    "    models = pickle.load(open(model_fn, 'rb'))\n",
    "\n",
    "    #Check and create plot directories if needed\n",
    "    for k in range(len(models)):\n",
    "        model_name = 'GMM_n' + str(models[k].n_components)\n",
    "        outloc = '/'.join(['.','plots',name_of_plot_run,model_name])\n",
    "\n",
    "        if not os.path.isdir(outloc):\n",
    "            \n",
    "            print('Directory does not exist yet, adding plot run directory: ' + outloc)\n",
    "            if not os.path.isdir('/'.join(['.','plots',name_of_plot_run])):\n",
    "                os.mkdir('/'.join(['.','plots',name_of_plot_run]))\n",
    "            os.mkdir(outloc)\n",
    "                \n",
    "\n",
    "    print('Begin processing')\n",
    "    #[load_plot_scan(valid_file) for valid_file in valid_files]\n",
    "\n",
    "    #pool = multiprocessing.Pool()\n",
    "    #pool.map(load_plot_scan, valid_files)\n",
    "\n",
    "    p = Pool(3)\n",
    "    outcomes = []\n",
    "    try:\n",
    "        outcomes = p.map(load_plot_scan, range(len(fls)))\n",
    "    except Exception as e:\n",
    "        print(e)\n",
    "        traceback.print_exc()\n",
    "        p.terminate()\n",
    "        "
   ]
  },
  {
   "cell_type": "code",
   "execution_count": 39,
   "metadata": {},
   "outputs": [
    {
     "data": {
      "text/plain": [
       "'Finished uq-xpol_rhi_20160223_033611.h5'"
      ]
     },
     "execution_count": 39,
     "metadata": {},
     "output_type": "execute_result"
    }
   ],
   "source": [
    "load_plot_scan(0)"
   ]
  },
  {
   "cell_type": "code",
   "execution_count": 16,
   "metadata": {
    "collapsed": true
   },
   "outputs": [],
   "source": [
    "p.terminate()"
   ]
  },
  {
   "cell_type": "code",
   "execution_count": 37,
   "metadata": {},
   "outputs": [
    {
     "data": {
      "text/plain": [
       "[1, 2, 3, 4, 5, 6, 7, 8, 9, 10, 11, 12, 13, 14]"
      ]
     },
     "execution_count": 37,
     "metadata": {},
     "output_type": "execute_result"
    }
   ],
   "source": [
    "range(1,14+1)"
   ]
  },
  {
   "cell_type": "code",
   "execution_count": null,
   "metadata": {
    "collapsed": true
   },
   "outputs": [],
   "source": []
  }
 ],
 "metadata": {
  "kernelspec": {
   "display_name": "Python 2",
   "language": "python",
   "name": "python2"
  },
  "language_info": {
   "codemirror_mode": {
    "name": "ipython",
    "version": 2
   },
   "file_extension": ".py",
   "mimetype": "text/x-python",
   "name": "python",
   "nbconvert_exporter": "python",
   "pygments_lexer": "ipython2",
   "version": "2.7.13"
  }
 },
 "nbformat": 4,
 "nbformat_minor": 2
}
